{
 "cells": [
  {
   "cell_type": "code",
   "execution_count": 44,
   "metadata": {},
   "outputs": [],
   "source": [
    "#set up training data\n",
    "with open (train_file) as train:\n",
    "    csv_reader = csv.reader(train)\n",
    "    next(csv_reader)\n",
    "\n",
    "    for index, row in enumerate(csv_reader):\n",
    "        pixels = row[1:] # without label\n",
    "        pixels = np.array(pixels, dtype='uint8')\n",
    "        pixels = pixels.reshape((28, 28))\n",
    "        image = Image.fromarray(pixels)\n",
    "\n",
    "        label = row[0]\n",
    "        \n",
    "        filename = '{}_{}.jpg'.format(index, label)\n",
    "        image.save(data_path/\"train\"/filename)"
   ]
  },
  {
   "cell_type": "code",
   "execution_count": 1,
   "metadata": {},
   "outputs": [],
   "source": [
    "#set up test data, adjusting for slightly differing inputs\n",
    "with open (test_file) as test:\n",
    "    csv_reader = csv.reader(test)\n",
    "    next(csv_reader)\n",
    "\n",
    "    for index, row in enumerate(csv_reader):\n",
    "        pixels = row # without label\n",
    "        pixels = np.array(pixels, dtype='uint8')\n",
    "        pixels = pixels.reshape((28, 28))\n",
    "        image = Image.fromarray(pixels)\n",
    "        \n",
    "        filename = '{}.jpg'.format(index)\n",
    "        image.save(data_path/\"test\"/filename)"
   ]
  },
  {
   "cell_type": "code",
   "execution_count": null,
   "metadata": {},
   "outputs": [],
   "source": [
    "from fastai.vision import *\n",
    "from fastai.metrics import error_rate\n",
    "import numpy as np\n",
    "import csv\n",
    "from PIL import Image\n"
   ]
  },
  {
   "cell_type": "code",
   "execution_count": null,
   "metadata": {},
   "outputs": [],
   "source": [
    "#load paths\n",
    "data_path = Path(\"../data\")\n",
    "\n",
    "\n",
    "train_file = data_path/\"train.csv\"\n",
    "test_file = data_path/\"test.csv\""
   ]
  },
  {
   "cell_type": "code",
   "execution_count": null,
   "metadata": {},
   "outputs": [],
   "source": [
    "#setting data settings\n",
    "pat = '(?<=\\_)(.*?)(?=\\.)'\n",
    "fnames = get_image_files(data_path/\"train\")\n",
    "fnames[:5]\n",
    "bs = 64"
   ]
  },
  {
   "cell_type": "code",
   "execution_count": null,
   "metadata": {},
   "outputs": [],
   "source": [
    "training_data = ImageDataBunch.from_name_re(data_path/\"train\", fnames, pat\n",
    "                                   , ds_tfms=get_transforms(do_flip = False)\n",
    "                                   , size=28**2, bs=bs\n",
    "                                  ).normalize(imagenet_stats)\n"
   ]
  },
  {
   "cell_type": "code",
   "execution_count": null,
   "metadata": {},
   "outputs": [],
   "source": [
    "training_data.show_batch(rows=3, figsize=(7,6))\n"
   ]
  },
  {
   "cell_type": "code",
   "execution_count": null,
   "metadata": {},
   "outputs": [],
   "source": []
  },
  {
   "cell_type": "code",
   "execution_count": null,
   "metadata": {},
   "outputs": [],
   "source": []
  }
 ],
 "metadata": {
  "kernelspec": {
   "display_name": "Python 3",
   "language": "python",
   "name": "python3"
  },
  "language_info": {
   "codemirror_mode": {
    "name": "ipython",
    "version": 3
   },
   "file_extension": ".py",
   "mimetype": "text/x-python",
   "name": "python",
   "nbconvert_exporter": "python",
   "pygments_lexer": "ipython3",
   "version": "3.7.5"
  }
 },
 "nbformat": 4,
 "nbformat_minor": 2
}
